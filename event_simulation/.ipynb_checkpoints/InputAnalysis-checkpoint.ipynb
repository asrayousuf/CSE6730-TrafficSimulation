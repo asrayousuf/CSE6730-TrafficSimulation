{
 "cells": [
  {
   "cell_type": "code",
   "execution_count": 138,
   "metadata": {},
   "outputs": [],
   "source": [
    "import pandas as pd\n",
    "import matplotlib.pyplot as plt\n",
    "import time\n",
    "import numpy as np"
   ]
  },
  {
   "cell_type": "code",
   "execution_count": 2,
   "metadata": {},
   "outputs": [],
   "source": [
    "events = pd.read_csv('../resources/trajectories-0400pm-0415pm_editted.csv')"
   ]
  },
  {
   "cell_type": "code",
   "execution_count": 3,
   "metadata": {},
   "outputs": [
    {
     "data": {
      "text/html": [
       "<div>\n",
       "<style scoped>\n",
       "    .dataframe tbody tr th:only-of-type {\n",
       "        vertical-align: middle;\n",
       "    }\n",
       "\n",
       "    .dataframe tbody tr th {\n",
       "        vertical-align: top;\n",
       "    }\n",
       "\n",
       "    .dataframe thead th {\n",
       "        text-align: right;\n",
       "    }\n",
       "</style>\n",
       "<table border=\"1\" class=\"dataframe\">\n",
       "  <thead>\n",
       "    <tr style=\"text-align: right;\">\n",
       "      <th></th>\n",
       "      <th>Vehicle_ID</th>\n",
       "      <th>Frame_ID</th>\n",
       "      <th>Tot_Frames</th>\n",
       "      <th>Epoch_ms</th>\n",
       "      <th>Local_X</th>\n",
       "      <th>Local_Y</th>\n",
       "      <th>Global_X</th>\n",
       "      <th>Global_Y</th>\n",
       "      <th>Veh_Len</th>\n",
       "      <th>Veh_Wid</th>\n",
       "      <th>...</th>\n",
       "      <th>Org_Zone</th>\n",
       "      <th>Dest_Zone</th>\n",
       "      <th>Intersection</th>\n",
       "      <th>Section</th>\n",
       "      <th>Direction</th>\n",
       "      <th>Movement</th>\n",
       "      <th>Preceding_Veh</th>\n",
       "      <th>Following_Veh</th>\n",
       "      <th>Spacing</th>\n",
       "      <th>Headway</th>\n",
       "    </tr>\n",
       "  </thead>\n",
       "  <tbody>\n",
       "    <tr>\n",
       "      <th>0</th>\n",
       "      <td>2</td>\n",
       "      <td>29</td>\n",
       "      <td>1707</td>\n",
       "      <td>1163033200</td>\n",
       "      <td>8.695</td>\n",
       "      <td>235.155</td>\n",
       "      <td>2230541.536</td>\n",
       "      <td>1375765.856</td>\n",
       "      <td>14.0</td>\n",
       "      <td>7.0</td>\n",
       "      <td>...</td>\n",
       "      <td>102</td>\n",
       "      <td>214</td>\n",
       "      <td>1</td>\n",
       "      <td>0</td>\n",
       "      <td>2</td>\n",
       "      <td>3</td>\n",
       "      <td>0</td>\n",
       "      <td>0</td>\n",
       "      <td>0.0</td>\n",
       "      <td>0.0</td>\n",
       "    </tr>\n",
       "    <tr>\n",
       "      <th>1</th>\n",
       "      <td>2</td>\n",
       "      <td>30</td>\n",
       "      <td>1707</td>\n",
       "      <td>1163033300</td>\n",
       "      <td>7.957</td>\n",
       "      <td>236.573</td>\n",
       "      <td>2230541.013</td>\n",
       "      <td>1375767.607</td>\n",
       "      <td>14.0</td>\n",
       "      <td>7.0</td>\n",
       "      <td>...</td>\n",
       "      <td>102</td>\n",
       "      <td>214</td>\n",
       "      <td>0</td>\n",
       "      <td>2</td>\n",
       "      <td>2</td>\n",
       "      <td>1</td>\n",
       "      <td>0</td>\n",
       "      <td>0</td>\n",
       "      <td>0.0</td>\n",
       "      <td>0.0</td>\n",
       "    </tr>\n",
       "    <tr>\n",
       "      <th>2</th>\n",
       "      <td>2</td>\n",
       "      <td>31</td>\n",
       "      <td>1707</td>\n",
       "      <td>1163033400</td>\n",
       "      <td>7.335</td>\n",
       "      <td>238.296</td>\n",
       "      <td>2230540.384</td>\n",
       "      <td>1375769.177</td>\n",
       "      <td>14.0</td>\n",
       "      <td>7.0</td>\n",
       "      <td>...</td>\n",
       "      <td>102</td>\n",
       "      <td>214</td>\n",
       "      <td>0</td>\n",
       "      <td>2</td>\n",
       "      <td>2</td>\n",
       "      <td>1</td>\n",
       "      <td>0</td>\n",
       "      <td>0</td>\n",
       "      <td>0.0</td>\n",
       "      <td>0.0</td>\n",
       "    </tr>\n",
       "    <tr>\n",
       "      <th>3</th>\n",
       "      <td>2</td>\n",
       "      <td>32</td>\n",
       "      <td>1707</td>\n",
       "      <td>1163033500</td>\n",
       "      <td>6.855</td>\n",
       "      <td>240.238</td>\n",
       "      <td>2230540.053</td>\n",
       "      <td>1375771.229</td>\n",
       "      <td>14.0</td>\n",
       "      <td>7.0</td>\n",
       "      <td>...</td>\n",
       "      <td>102</td>\n",
       "      <td>214</td>\n",
       "      <td>0</td>\n",
       "      <td>2</td>\n",
       "      <td>2</td>\n",
       "      <td>1</td>\n",
       "      <td>0</td>\n",
       "      <td>0</td>\n",
       "      <td>0.0</td>\n",
       "      <td>0.0</td>\n",
       "    </tr>\n",
       "    <tr>\n",
       "      <th>4</th>\n",
       "      <td>2</td>\n",
       "      <td>33</td>\n",
       "      <td>1707</td>\n",
       "      <td>1163033600</td>\n",
       "      <td>6.543</td>\n",
       "      <td>242.413</td>\n",
       "      <td>2230539.947</td>\n",
       "      <td>1375773.631</td>\n",
       "      <td>14.0</td>\n",
       "      <td>7.0</td>\n",
       "      <td>...</td>\n",
       "      <td>102</td>\n",
       "      <td>214</td>\n",
       "      <td>0</td>\n",
       "      <td>2</td>\n",
       "      <td>2</td>\n",
       "      <td>1</td>\n",
       "      <td>0</td>\n",
       "      <td>0</td>\n",
       "      <td>0.0</td>\n",
       "      <td>0.0</td>\n",
       "    </tr>\n",
       "  </tbody>\n",
       "</table>\n",
       "<p>5 rows × 24 columns</p>\n",
       "</div>"
      ],
      "text/plain": [
       "   Vehicle_ID  Frame_ID  Tot_Frames    Epoch_ms  Local_X  Local_Y  \\\n",
       "0           2        29        1707  1163033200    8.695  235.155   \n",
       "1           2        30        1707  1163033300    7.957  236.573   \n",
       "2           2        31        1707  1163033400    7.335  238.296   \n",
       "3           2        32        1707  1163033500    6.855  240.238   \n",
       "4           2        33        1707  1163033600    6.543  242.413   \n",
       "\n",
       "      Global_X     Global_Y  Veh_Len  Veh_Wid   ...     Org_Zone  Dest_Zone  \\\n",
       "0  2230541.536  1375765.856     14.0      7.0   ...          102        214   \n",
       "1  2230541.013  1375767.607     14.0      7.0   ...          102        214   \n",
       "2  2230540.384  1375769.177     14.0      7.0   ...          102        214   \n",
       "3  2230540.053  1375771.229     14.0      7.0   ...          102        214   \n",
       "4  2230539.947  1375773.631     14.0      7.0   ...          102        214   \n",
       "\n",
       "   Intersection  Section  Direction  Movement  Preceding_Veh  Following_Veh  \\\n",
       "0             1        0          2         3              0              0   \n",
       "1             0        2          2         1              0              0   \n",
       "2             0        2          2         1              0              0   \n",
       "3             0        2          2         1              0              0   \n",
       "4             0        2          2         1              0              0   \n",
       "\n",
       "   Spacing  Headway  \n",
       "0      0.0      0.0  \n",
       "1      0.0      0.0  \n",
       "2      0.0      0.0  \n",
       "3      0.0      0.0  \n",
       "4      0.0      0.0  \n",
       "\n",
       "[5 rows x 24 columns]"
      ]
     },
     "execution_count": 3,
     "metadata": {},
     "output_type": "execute_result"
    }
   ],
   "source": [
    "events.head()"
   ]
  },
  {
   "cell_type": "code",
   "execution_count": 4,
   "metadata": {},
   "outputs": [
    {
     "data": {
      "text/plain": [
       "(457997, 24)"
      ]
     },
     "execution_count": 4,
     "metadata": {},
     "output_type": "execute_result"
    }
   ],
   "source": [
    "events.shape"
   ]
  },
  {
   "cell_type": "code",
   "execution_count": 8,
   "metadata": {},
   "outputs": [
    {
     "name": "stdout",
     "output_type": "stream",
     "text": [
      "Number of Cars\n"
     ]
    },
    {
     "data": {
      "text/plain": [
       "753"
      ]
     },
     "execution_count": 8,
     "metadata": {},
     "output_type": "execute_result"
    }
   ],
   "source": [
    "print(\"Number of Cars\")\n",
    "events.Vehicle_ID.drop_duplicates().shape[0]"
   ]
  },
  {
   "cell_type": "code",
   "execution_count": 34,
   "metadata": {},
   "outputs": [
    {
     "name": "stdout",
     "output_type": "stream",
     "text": [
      "Start Time: 11/08/2006 19:06:40\n"
     ]
    }
   ],
   "source": [
    "min_time = time.strftime('%m/%d/%Y %H:%M:%S',  time.localtime(events.Epoch_ms.min()))\n",
    "print(\"Start Time:\", min_time)"
   ]
  },
  {
   "cell_type": "code",
   "execution_count": 33,
   "metadata": {},
   "outputs": [
    {
     "name": "stdout",
     "output_type": "stream",
     "text": [
      "End Time: 11/20/2006 17:53:20\n"
     ]
    }
   ],
   "source": [
    "max_time = time.strftime('%m/%d/%Y %H:%M:%S',  time.localtime(events.Epoch_ms.max()))\n",
    "print(\"End Time:\", max_time)"
   ]
  },
  {
   "cell_type": "code",
   "execution_count": 184,
   "metadata": {},
   "outputs": [],
   "source": [
    "carsOnTheRoad = dict()\n",
    "min_epoch = events.Epoch_ms.min()\n",
    "max_epoch = events.Epoch_ms.max()\n",
    "for timeincr in range(min_epoch, max_epoch, 4000):\n",
    "    endbin[timeincr] = 0\n",
    "    records = events[(events.Epoch_ms >= timeincr) & (events.Epoch_ms <= (timeincr+4000)) ]\n",
    "    carsOnTheRoad[timeincr] = records.Vehicle_ID.drop_duplicates().shape[0]\n"
   ]
  },
  {
   "cell_type": "code",
   "execution_count": 185,
   "metadata": {},
   "outputs": [
    {
     "data": {
      "image/png": "[encoded data removed]",
      "text/plain": [
       "<Figure size 1080x288 with 2 Axes>"
      ]
     },
     "metadata": {
      "needs_background": "light"
     },
     "output_type": "display_data"
    }
   ],
   "source": [
    "df = pd.DataFrame.from_dict(carsOnTheRoad, orient='index')\n",
    "df.index = pd.Series({x: time.strftime('%m/%d/%Y %H:%M:%S',  time.localtime(x)) for x in df.index})\n",
    "import seaborn as sns\n",
    "plt.figure(figsize=(15, 4))\n",
    "plt.xticks(rotation=75)\n",
    "sns.heatmap(df.transpose(), xticklabels = 15, cmap= sns.cm.rocket_r);\n"
   ]
  },
  {
   "cell_type": "code",
   "execution_count": 203,
   "metadata": {},
   "outputs": [
    {
     "data": {
      "text/plain": [
       "<BarContainer object of 259 artists>"
      ]
     },
     "execution_count": 203,
     "metadata": {},
     "output_type": "execute_result"
    },
    {
     "data": {
      "image/png": "[encoded data removed]",
      "text/plain": [
       "<Figure size 432x288 with 1 Axes>"
      ]
     },
     "metadata": {
      "needs_background": "light"
     },
     "output_type": "display_data"
    }
   ],
   "source": [
    "plt.bar(list(carsOnTheRoad.keys()), list(carsOnTheRoad.values()),width=5000 )\n"
   ]
  },
  {
   "cell_type": "code",
   "execution_count": 186,
   "metadata": {},
   "outputs": [],
   "source": [
    "events_halfhour = events[(events.Epoch_ms >= 1163412400) & (events.Epoch_ms <= 1163426800) ]"
   ]
  },
  {
   "cell_type": "code",
   "execution_count": 187,
   "metadata": {},
   "outputs": [
    {
     "data": {
      "text/plain": [
       "(7983, 24)"
      ]
     },
     "execution_count": 187,
     "metadata": {},
     "output_type": "execute_result"
    }
   ],
   "source": [
    "events_halfhour.shape"
   ]
  },
  {
   "cell_type": "code",
   "execution_count": null,
   "metadata": {},
   "outputs": [],
   "source": []
  }
 ],
 "metadata": {
  "kernelspec": {
   "display_name": "Python 3",
   "language": "python",
   "name": "python3"
  },
  "language_info": {
   "codemirror_mode": {
    "name": "ipython",
    "version": 3
   },
   "file_extension": ".py",
   "mimetype": "text/x-python",
   "name": "python",
   "nbconvert_exporter": "python",
   "pygments_lexer": "ipython3",
   "version": "3.6.8"
  }
 },
 "nbformat": 4,
 "nbformat_minor": 2
}
